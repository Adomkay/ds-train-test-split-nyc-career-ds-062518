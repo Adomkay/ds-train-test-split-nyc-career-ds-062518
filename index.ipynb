{
 "cells": [
  {
   "cell_type": "markdown",
   "metadata": {},
   "source": [
    "# Train Test Split <a id=\"toc\"></a>\n",
    "\n",
    "Thus far we've simply been fitting models to data and calculating the error between various models and the actual data. This can lead to various problems such as overfitting where we overtune our models to these specific data points and fail to disern more generalizable patterns that will apply to future cases. \n",
    "\n",
    "Let's look at a few examples of how we could modify some of our algorithms to overfit data:\n",
    "\n",
    "### Introduction  \n",
    "\n",
    "Now that you've seen some basic linear regression models it's time to discuss further how to better tune these models. As you saw, we usually begin with an error or loss function for which we'll apply an optimization algorithm such as gradient descent. We then apply this optimization algorithm to the error function we're trying to minimize and voila, we have an optimized solution! Unfortunately, things aren't quite that simple. \n",
    "\n",
    "### Overfitting and Underfitting\n",
    "Most importantly is the issue of generalization.\n",
    "This is often examined by discussing underfitting and overfitting.\n",
    "![](./images/overfit_underfit.png)\n",
    "\n",
    "Recall our main goal when performing regression: we're attempting to find relationships that can generalize to new cases. Generally, the more data that we have the better off we'll be as we can observe more patterns and relationships within that data. However, some of these patterns and relationships may not generalize well to other cases. "
   ]
  },
  {
   "cell_type": "markdown",
   "metadata": {},
   "source": [
    "## Let's intentionally overfit some data to see this in demonstration.\n",
    "\n",
    "### 1. Import the data and define X and Y."
   ]
  },
  {
   "cell_type": "code",
   "execution_count": 1,
   "metadata": {},
   "outputs": [
    {
     "data": {
      "text/html": [
       "<div>\n",
       "<style scoped>\n",
       "    .dataframe tbody tr th:only-of-type {\n",
       "        vertical-align: middle;\n",
       "    }\n",
       "\n",
       "    .dataframe tbody tr th {\n",
       "        vertical-align: top;\n",
       "    }\n",
       "\n",
       "    .dataframe thead th {\n",
       "        text-align: right;\n",
       "    }\n",
       "</style>\n",
       "<table border=\"1\" class=\"dataframe\">\n",
       "  <thead>\n",
       "    <tr style=\"text-align: right;\">\n",
       "      <th></th>\n",
       "      <th>budget</th>\n",
       "      <th>domgross</th>\n",
       "      <th>title</th>\n",
       "      <th>Response_Json</th>\n",
       "      <th>Year</th>\n",
       "      <th>imdbRating</th>\n",
       "      <th>Metascore</th>\n",
       "      <th>imdbVotes</th>\n",
       "    </tr>\n",
       "  </thead>\n",
       "  <tbody>\n",
       "    <tr>\n",
       "      <th>0</th>\n",
       "      <td>13000000</td>\n",
       "      <td>25682380</td>\n",
       "      <td>21 &amp;amp; Over</td>\n",
       "      <td>NaN</td>\n",
       "      <td>2008.0</td>\n",
       "      <td>6.8</td>\n",
       "      <td>48.0</td>\n",
       "      <td>206513.0</td>\n",
       "    </tr>\n",
       "    <tr>\n",
       "      <th>1</th>\n",
       "      <td>45658735</td>\n",
       "      <td>13414714</td>\n",
       "      <td>Dredd 3D</td>\n",
       "      <td>NaN</td>\n",
       "      <td>2012.0</td>\n",
       "      <td>NaN</td>\n",
       "      <td>NaN</td>\n",
       "      <td>NaN</td>\n",
       "    </tr>\n",
       "    <tr>\n",
       "      <th>2</th>\n",
       "      <td>20000000</td>\n",
       "      <td>53107035</td>\n",
       "      <td>12 Years a Slave</td>\n",
       "      <td>NaN</td>\n",
       "      <td>2013.0</td>\n",
       "      <td>8.1</td>\n",
       "      <td>96.0</td>\n",
       "      <td>537525.0</td>\n",
       "    </tr>\n",
       "    <tr>\n",
       "      <th>3</th>\n",
       "      <td>61000000</td>\n",
       "      <td>75612460</td>\n",
       "      <td>2 Guns</td>\n",
       "      <td>NaN</td>\n",
       "      <td>2013.0</td>\n",
       "      <td>6.7</td>\n",
       "      <td>55.0</td>\n",
       "      <td>173726.0</td>\n",
       "    </tr>\n",
       "    <tr>\n",
       "      <th>4</th>\n",
       "      <td>40000000</td>\n",
       "      <td>95020213</td>\n",
       "      <td>42</td>\n",
       "      <td>NaN</td>\n",
       "      <td>2013.0</td>\n",
       "      <td>7.5</td>\n",
       "      <td>62.0</td>\n",
       "      <td>74170.0</td>\n",
       "    </tr>\n",
       "  </tbody>\n",
       "</table>\n",
       "</div>"
      ],
      "text/plain": [
       "     budget  domgross             title  Response_Json    Year  imdbRating  \\\n",
       "0  13000000  25682380     21 &amp; Over            NaN  2008.0         6.8   \n",
       "1  45658735  13414714          Dredd 3D            NaN  2012.0         NaN   \n",
       "2  20000000  53107035  12 Years a Slave            NaN  2013.0         8.1   \n",
       "3  61000000  75612460            2 Guns            NaN  2013.0         6.7   \n",
       "4  40000000  95020213                42            NaN  2013.0         7.5   \n",
       "\n",
       "   Metascore  imdbVotes  \n",
       "0       48.0   206513.0  \n",
       "1        NaN        NaN  \n",
       "2       96.0   537525.0  \n",
       "3       55.0   173726.0  \n",
       "4       62.0    74170.0  "
      ]
     },
     "execution_count": 1,
     "metadata": {},
     "output_type": "execute_result"
    }
   ],
   "source": [
    "#Import the Data here.\n",
    "path = './data/' #The subdirectory where the file is stored\n",
    "filename = 'movie_data_detailed.xlsx' #The filename\n",
    "full_path = path + filename #Alternative shortcut\n",
    "\n",
    "import pandas as pd\n",
    "from decimal import Decimal\n",
    "\n",
    "df = pd.read_excel(path+filename)\n",
    "df.head()"
   ]
  },
  {
   "cell_type": "markdown",
   "metadata": {},
   "source": [
    "As we see above that the values in `budget` and `domgross` column are extremely large, it would be a great idea to re-format these values by dividing these columns by a million. "
   ]
  },
  {
   "cell_type": "code",
   "execution_count": 2,
   "metadata": {},
   "outputs": [
    {
     "name": "stdout",
     "output_type": "stream",
     "text": [
      "      budget  imdbRating  Metascore  imdbVotes\n",
      "0  13.000000         6.8       48.0   206513.0\n",
      "1  45.658735         NaN        NaN        NaN\n",
      "2  20.000000         8.1       96.0   537525.0\n",
      "3  61.000000         6.7       55.0   173726.0\n",
      "4  40.000000         7.5       62.0    74170.0 0    25.682380\n",
      "1    13.414714\n",
      "2    53.107035\n",
      "3    75.612460\n",
      "4    95.020213\n",
      "Name: domgross, dtype: float64\n"
     ]
    }
   ],
   "source": [
    "df['budget'] = df['budget']/1000000\n",
    "df['domgross'] = df['domgross']/1000000\n",
    "\n",
    "\n",
    "#Subset the Data into appropriate X and Y features. (X should be multiple features!)\n",
    "X = df[['budget', 'imdbRating', 'Metascore', 'imdbVotes']]\n",
    "\n",
    "Y = df.domgross\n",
    "print(X.head(), Y.head())"
   ]
  },
  {
   "cell_type": "markdown",
   "metadata": {},
   "source": [
    "### 2. For each feature in X, create several new columns that are powers of that feature. For example, you could take the $budget$ column and produce another column $budget**2$, a third column $budget**3$, a fourth column $budget**4$ and so on. Do this until you have more columns then rows."
   ]
  },
  {
   "cell_type": "code",
   "execution_count": 3,
   "metadata": {},
   "outputs": [
    {
     "name": "stdout",
     "output_type": "stream",
     "text": [
      "30\n"
     ]
    }
   ],
   "source": [
    "print(len(df))"
   ]
  },
  {
   "cell_type": "code",
   "execution_count": 4,
   "metadata": {},
   "outputs": [
    {
     "name": "stdout",
     "output_type": "stream",
     "text": [
      "4 32 30 Index(['budget', 'imdbRating', 'Metascore', 'imdbVotes', 'budget^2',\n",
      "       'budget^3', 'budget^4', 'budget^5', 'budget^6', 'budget^7', 'budget^8',\n",
      "       'imdbRating^2', 'imdbRating^3', 'imdbRating^4', 'imdbRating^5',\n",
      "       'imdbRating^6', 'imdbRating^7', 'imdbRating^8', 'Metascore^2',\n",
      "       'Metascore^3', 'Metascore^4', 'Metascore^5', 'Metascore^6',\n",
      "       'Metascore^7', 'Metascore^8', 'imdbVotes^2', 'imdbVotes^3',\n",
      "       'imdbVotes^4', 'imdbVotes^5', 'imdbVotes^6', 'imdbVotes^7',\n",
      "       'imdbVotes^8'],\n",
      "      dtype='object')\n"
     ]
    },
    {
     "name": "stderr",
     "output_type": "stream",
     "text": [
      "/anaconda3/lib/python3.6/site-packages/ipykernel_launcher.py:7: SettingWithCopyWarning: \n",
      "A value is trying to be set on a copy of a slice from a DataFrame.\n",
      "Try using .loc[row_indexer,col_indexer] = value instead\n",
      "\n",
      "See the caveats in the documentation: http://pandas.pydata.org/pandas-docs/stable/indexing.html#indexing-view-versus-copy\n",
      "  import sys\n"
     ]
    },
    {
     "data": {
      "text/html": [
       "<div>\n",
       "<style scoped>\n",
       "    .dataframe tbody tr th:only-of-type {\n",
       "        vertical-align: middle;\n",
       "    }\n",
       "\n",
       "    .dataframe tbody tr th {\n",
       "        vertical-align: top;\n",
       "    }\n",
       "\n",
       "    .dataframe thead th {\n",
       "        text-align: right;\n",
       "    }\n",
       "</style>\n",
       "<table border=\"1\" class=\"dataframe\">\n",
       "  <thead>\n",
       "    <tr style=\"text-align: right;\">\n",
       "      <th></th>\n",
       "      <th>budget</th>\n",
       "      <th>imdbRating</th>\n",
       "      <th>Metascore</th>\n",
       "      <th>imdbVotes</th>\n",
       "      <th>budget^2</th>\n",
       "      <th>budget^3</th>\n",
       "      <th>budget^4</th>\n",
       "      <th>budget^5</th>\n",
       "      <th>budget^6</th>\n",
       "      <th>budget^7</th>\n",
       "      <th>...</th>\n",
       "      <th>Metascore^6</th>\n",
       "      <th>Metascore^7</th>\n",
       "      <th>Metascore^8</th>\n",
       "      <th>imdbVotes^2</th>\n",
       "      <th>imdbVotes^3</th>\n",
       "      <th>imdbVotes^4</th>\n",
       "      <th>imdbVotes^5</th>\n",
       "      <th>imdbVotes^6</th>\n",
       "      <th>imdbVotes^7</th>\n",
       "      <th>imdbVotes^8</th>\n",
       "    </tr>\n",
       "  </thead>\n",
       "  <tbody>\n",
       "    <tr>\n",
       "      <th>0</th>\n",
       "      <td>13.000000</td>\n",
       "      <td>6.8</td>\n",
       "      <td>48.0</td>\n",
       "      <td>206513.0</td>\n",
       "      <td>169.000000</td>\n",
       "      <td>2197.000000</td>\n",
       "      <td>2.856100e+04</td>\n",
       "      <td>3.712930e+05</td>\n",
       "      <td>4.826809e+06</td>\n",
       "      <td>6.274852e+07</td>\n",
       "      <td>...</td>\n",
       "      <td>1.223059e+10</td>\n",
       "      <td>5.870683e+11</td>\n",
       "      <td>2.817928e+13</td>\n",
       "      <td>4.264762e+10</td>\n",
       "      <td>8.807288e+15</td>\n",
       "      <td>1.818819e+21</td>\n",
       "      <td>3.756099e+26</td>\n",
       "      <td>7.756832e+31</td>\n",
       "      <td>1.601887e+37</td>\n",
       "      <td>3.308104e+42</td>\n",
       "    </tr>\n",
       "    <tr>\n",
       "      <th>1</th>\n",
       "      <td>45.658735</td>\n",
       "      <td>NaN</td>\n",
       "      <td>NaN</td>\n",
       "      <td>NaN</td>\n",
       "      <td>2084.720082</td>\n",
       "      <td>95185.681764</td>\n",
       "      <td>4.346058e+06</td>\n",
       "      <td>1.984355e+08</td>\n",
       "      <td>9.060314e+09</td>\n",
       "      <td>4.136825e+11</td>\n",
       "      <td>...</td>\n",
       "      <td>NaN</td>\n",
       "      <td>NaN</td>\n",
       "      <td>NaN</td>\n",
       "      <td>NaN</td>\n",
       "      <td>NaN</td>\n",
       "      <td>NaN</td>\n",
       "      <td>NaN</td>\n",
       "      <td>NaN</td>\n",
       "      <td>NaN</td>\n",
       "      <td>NaN</td>\n",
       "    </tr>\n",
       "    <tr>\n",
       "      <th>2</th>\n",
       "      <td>20.000000</td>\n",
       "      <td>8.1</td>\n",
       "      <td>96.0</td>\n",
       "      <td>537525.0</td>\n",
       "      <td>400.000000</td>\n",
       "      <td>8000.000000</td>\n",
       "      <td>1.600000e+05</td>\n",
       "      <td>3.200000e+06</td>\n",
       "      <td>6.400000e+07</td>\n",
       "      <td>1.280000e+09</td>\n",
       "      <td>...</td>\n",
       "      <td>7.827578e+11</td>\n",
       "      <td>7.514475e+13</td>\n",
       "      <td>7.213896e+15</td>\n",
       "      <td>2.889331e+11</td>\n",
       "      <td>1.553088e+17</td>\n",
       "      <td>8.348235e+22</td>\n",
       "      <td>4.487385e+28</td>\n",
       "      <td>2.412082e+34</td>\n",
       "      <td>1.296554e+40</td>\n",
       "      <td>6.969303e+45</td>\n",
       "    </tr>\n",
       "    <tr>\n",
       "      <th>3</th>\n",
       "      <td>61.000000</td>\n",
       "      <td>6.7</td>\n",
       "      <td>55.0</td>\n",
       "      <td>173726.0</td>\n",
       "      <td>3721.000000</td>\n",
       "      <td>226981.000000</td>\n",
       "      <td>1.384584e+07</td>\n",
       "      <td>8.445963e+08</td>\n",
       "      <td>5.152037e+10</td>\n",
       "      <td>3.142743e+12</td>\n",
       "      <td>...</td>\n",
       "      <td>2.768064e+10</td>\n",
       "      <td>1.522435e+12</td>\n",
       "      <td>8.373394e+13</td>\n",
       "      <td>3.018072e+10</td>\n",
       "      <td>5.243176e+15</td>\n",
       "      <td>9.108760e+20</td>\n",
       "      <td>1.582429e+26</td>\n",
       "      <td>2.749090e+31</td>\n",
       "      <td>4.775884e+36</td>\n",
       "      <td>8.296952e+41</td>\n",
       "    </tr>\n",
       "    <tr>\n",
       "      <th>4</th>\n",
       "      <td>40.000000</td>\n",
       "      <td>7.5</td>\n",
       "      <td>62.0</td>\n",
       "      <td>74170.0</td>\n",
       "      <td>1600.000000</td>\n",
       "      <td>64000.000000</td>\n",
       "      <td>2.560000e+06</td>\n",
       "      <td>1.024000e+08</td>\n",
       "      <td>4.096000e+09</td>\n",
       "      <td>1.638400e+11</td>\n",
       "      <td>...</td>\n",
       "      <td>5.680024e+10</td>\n",
       "      <td>3.521615e+12</td>\n",
       "      <td>2.183401e+14</td>\n",
       "      <td>5.501189e+09</td>\n",
       "      <td>4.080232e+14</td>\n",
       "      <td>3.026308e+19</td>\n",
       "      <td>2.244613e+24</td>\n",
       "      <td>1.664829e+29</td>\n",
       "      <td>1.234804e+34</td>\n",
       "      <td>9.158540e+38</td>\n",
       "    </tr>\n",
       "  </tbody>\n",
       "</table>\n",
       "<p>5 rows × 32 columns</p>\n",
       "</div>"
      ],
      "text/plain": [
       "      budget  imdbRating  Metascore  imdbVotes     budget^2       budget^3  \\\n",
       "0  13.000000         6.8       48.0   206513.0   169.000000    2197.000000   \n",
       "1  45.658735         NaN        NaN        NaN  2084.720082   95185.681764   \n",
       "2  20.000000         8.1       96.0   537525.0   400.000000    8000.000000   \n",
       "3  61.000000         6.7       55.0   173726.0  3721.000000  226981.000000   \n",
       "4  40.000000         7.5       62.0    74170.0  1600.000000   64000.000000   \n",
       "\n",
       "       budget^4      budget^5      budget^6      budget^7      ...       \\\n",
       "0  2.856100e+04  3.712930e+05  4.826809e+06  6.274852e+07      ...        \n",
       "1  4.346058e+06  1.984355e+08  9.060314e+09  4.136825e+11      ...        \n",
       "2  1.600000e+05  3.200000e+06  6.400000e+07  1.280000e+09      ...        \n",
       "3  1.384584e+07  8.445963e+08  5.152037e+10  3.142743e+12      ...        \n",
       "4  2.560000e+06  1.024000e+08  4.096000e+09  1.638400e+11      ...        \n",
       "\n",
       "    Metascore^6   Metascore^7   Metascore^8   imdbVotes^2   imdbVotes^3  \\\n",
       "0  1.223059e+10  5.870683e+11  2.817928e+13  4.264762e+10  8.807288e+15   \n",
       "1           NaN           NaN           NaN           NaN           NaN   \n",
       "2  7.827578e+11  7.514475e+13  7.213896e+15  2.889331e+11  1.553088e+17   \n",
       "3  2.768064e+10  1.522435e+12  8.373394e+13  3.018072e+10  5.243176e+15   \n",
       "4  5.680024e+10  3.521615e+12  2.183401e+14  5.501189e+09  4.080232e+14   \n",
       "\n",
       "    imdbVotes^4   imdbVotes^5   imdbVotes^6   imdbVotes^7   imdbVotes^8  \n",
       "0  1.818819e+21  3.756099e+26  7.756832e+31  1.601887e+37  3.308104e+42  \n",
       "1           NaN           NaN           NaN           NaN           NaN  \n",
       "2  8.348235e+22  4.487385e+28  2.412082e+34  1.296554e+40  6.969303e+45  \n",
       "3  9.108760e+20  1.582429e+26  2.749090e+31  4.775884e+36  8.296952e+41  \n",
       "4  3.026308e+19  2.244613e+24  1.664829e+29  1.234804e+34  9.158540e+38  \n",
       "\n",
       "[5 rows x 32 columns]"
      ]
     },
     "execution_count": 4,
     "metadata": {},
     "output_type": "execute_result"
    }
   ],
   "source": [
    "#Your code here.\n",
    "#Create additional features using powers until you have more columns then rows.\n",
    "\n",
    "orig_columns = X.columns\n",
    "for feat in orig_columns:\n",
    "    for i in range(2,9):\n",
    "        X['{}^{}'.format(feat, i)] = X[feat].map(lambda x: x**i)\n",
    "print(len(orig_columns), len(X.columns), len(X), X.columns)\n",
    "X.head()\n",
    "    "
   ]
  },
  {
   "cell_type": "markdown",
   "metadata": {},
   "source": [
    "### 3. Use all of your new features for X. Then train a regression model using RSS as your error function and gradient descent to tune your weights. "
   ]
  },
  {
   "cell_type": "code",
   "execution_count": 5,
   "metadata": {},
   "outputs": [],
   "source": [
    "import sklearn.linear_model as lin"
   ]
  },
  {
   "cell_type": "code",
   "execution_count": 6,
   "metadata": {},
   "outputs": [
    {
     "data": {
      "text/plain": [
       "<bound method NDFrame.head of       budget  imdbRating  Metascore  imdbVotes  budget^2  budget^3  budget^4  \\\n",
       "0  -0.965831    -0.40625  -0.705882  -0.642623 -0.997258 -0.999822 -0.999989   \n",
       "1  -0.817044         NaN        NaN        NaN -0.959394 -0.991658 -0.998305   \n",
       "2  -0.933941     0.00000   0.000000   0.000000 -0.992692 -0.999312 -0.999938   \n",
       "3  -0.747153    -0.43750  -0.602941  -0.706276 -0.927053 -0.980087 -0.994598   \n",
       "4  -0.842825    -0.18750  -0.500000  -0.899553 -0.968974 -0.994396 -0.999001   \n",
       "5   0.000000    -0.56250  -1.000000  -0.793560  0.000000  0.000000  0.000000   \n",
       "6  -0.605923    -0.87500  -1.000000  -0.692960 -0.833308 -0.931651 -0.972048   \n",
       "7  -0.970387    -0.09375  -0.602941  -0.577443 -0.997752 -0.999863 -0.999992   \n",
       "8  -0.965831    -0.75000  -0.705882  -0.984185 -0.997258 -0.999822 -0.999989   \n",
       "9  -0.432802    -1.00000  -0.926471  -0.705035 -0.666571 -0.807134 -0.888560   \n",
       "10 -0.842825    -0.25000  -0.088235  -0.270115 -0.968974 -0.994396 -0.999001   \n",
       "11 -0.911162    -0.28125  -0.558824  -0.896225 -0.988245 -0.998643 -0.999848   \n",
       "12 -0.797267    -0.59375  -0.647059  -0.895998 -0.951186 -0.989041 -0.997562   \n",
       "13 -0.943052    -0.25000  -0.264706  -0.711595 -0.994194 -0.999503 -0.999959   \n",
       "14 -0.774487    -0.09375  -0.191176  -0.328640 -0.940809 -0.985408 -0.996430   \n",
       "15 -0.888383    -0.21875  -0.161765  -0.767231 -0.982809 -0.997644 -0.999684   \n",
       "16 -0.669704    -0.53125  -0.544118  -0.897673 -0.880348 -0.958352 -0.985558   \n",
       "17 -0.678815    -0.21875  -0.500000  -0.413246 -0.886436 -0.961476 -0.986983   \n",
       "18 -1.000000    -0.46875  -0.441176  -0.637896 -1.000000 -1.000000 -1.000000   \n",
       "19 -0.478360    -0.46875  -0.514706  -0.309446 -0.715983 -0.848309 -0.919092   \n",
       "20 -0.523918         NaN        NaN        NaN -0.761443 -0.883162 -0.942873   \n",
       "21 -0.569476    -0.43750  -0.647059  -0.864182 -0.802949 -0.912222 -0.960982   \n",
       "22 -0.842825    -0.68750  -0.897059  -1.000000 -0.968974 -0.994396 -0.999001   \n",
       "23 -0.706150    -0.43750  -0.691176  -0.657661 -0.903750 -0.969902 -0.990632   \n",
       "24 -0.947608    -0.50000  -0.573529  -0.771867 -0.994886 -0.999583 -0.999968   \n",
       "25 -0.296128         NaN        NaN        NaN -0.494617 -0.640415 -0.744289   \n",
       "26 -0.341686    -0.18750  -0.323529  -0.104777 -0.555888 -0.703714 -0.802469   \n",
       "27 -0.387244    -0.71875  -0.808824  -0.736398 -0.613206 -0.759111 -0.850107   \n",
       "28 -0.751708    -0.43750  -0.823529  -0.676922 -0.929444 -0.981051 -0.994944   \n",
       "29 -0.888383    -0.31250        NaN        NaN -0.982809 -0.997644 -0.999684   \n",
       "\n",
       "    budget^5  budget^6  budget^7     ...       Metascore^6  Metascore^7  \\\n",
       "0  -0.999999 -1.000000 -1.000000     ...         -0.984981    -0.992366   \n",
       "1  -0.999656 -0.999930 -0.999986     ...               NaN          NaN   \n",
       "2  -0.999994 -1.000000 -1.000000     ...          0.000000     0.000000   \n",
       "3  -0.998535 -0.999603 -0.999892     ...         -0.965231    -0.979916   \n",
       "4  -0.999822 -0.999968 -0.999994     ...         -0.928007    -0.953307   \n",
       "5   0.000000  0.000000  0.000000     ...         -1.000000    -1.000000   \n",
       "6  -0.988571 -0.995327 -0.998089     ...         -1.000000    -1.000000   \n",
       "7  -1.000000 -1.000000 -1.000000     ...         -0.965231    -0.979916   \n",
       "8  -0.999999 -1.000000 -1.000000     ...         -0.984981    -0.992366   \n",
       "9  -0.935612 -0.962798 -0.978506     ...         -0.998965    -0.999612   \n",
       "10 -0.999822 -0.999968 -0.999994     ...         -0.321264    -0.363565   \n",
       "11 -0.999983 -0.999998 -1.000000     ...         -0.951952    -0.970791   \n",
       "12 -0.999458 -0.999880 -0.999973     ...         -0.975343    -0.986496   \n",
       "13 -0.999997 -1.000000 -1.000000     ...         -0.712739    -0.766381   \n",
       "14 -0.999127 -0.999787 -0.999948     ...         -0.582681    -0.638998   \n",
       "15 -0.999958 -0.999994 -0.999999     ...         -0.518498    -0.573490   \n",
       "16 -0.994993 -0.998264 -0.999398     ...         -0.946696    -0.967056   \n",
       "17 -0.995603 -0.998515 -0.999498     ...         -0.928007    -0.953307   \n",
       "18 -1.000000 -1.000000 -1.000000     ...         -0.894958    -0.927571   \n",
       "19 -0.956849 -0.976986 -0.987726     ...         -0.934756    -0.958350   \n",
       "20 -0.972071 -0.986346 -0.993325     ...               NaN          NaN   \n",
       "21 -0.982658 -0.992293 -0.996575     ...         -0.975343    -0.986496   \n",
       "22 -0.999822 -0.999968 -0.999994     ...         -0.998266    -0.999323   \n",
       "23 -0.997085 -0.999093 -0.999718     ...         -0.982922    -0.991152   \n",
       "24 -0.999998 -1.000000 -1.000000     ...         -0.956774    -0.974160   \n",
       "25 -0.818161 -0.870692 -0.908048     ...               NaN          NaN   \n",
       "26 -0.868313 -0.912209 -0.941472     ...         -0.790707    -0.838446   \n",
       "27 -0.906733 -0.941967 -0.963891     ...         -0.994544    -0.997587   \n",
       "28 -0.998652 -0.999640 -0.999904     ...         -0.995380    -0.997999   \n",
       "29 -0.999958 -0.999994 -0.999999     ...               NaN          NaN   \n",
       "\n",
       "    Metascore^8  imdbVotes^2  imdbVotes^3  imdbVotes^4  imdbVotes^5  \\\n",
       "0     -0.996146    -0.853883    -0.943360    -0.978216    -0.991630   \n",
       "1           NaN          NaN          NaN          NaN          NaN   \n",
       "2      0.000000     0.000000     0.000000     0.000000     0.000000   \n",
       "3     -0.988444    -0.897106    -0.966311    -0.989092    -0.996474   \n",
       "4     -0.969784    -0.982671    -0.997445    -0.999641    -0.999950   \n",
       "5     -1.000000    -0.944258    -0.986325    -0.996710    -0.999211   \n",
       "6     -1.000000    -0.888681    -0.962152    -0.987264    -0.995720   \n",
       "7     -0.988444    -0.801898    -0.910960    -0.960203    -0.982223   \n",
       "8     -0.996146    -0.998503    -0.999889    -0.999993    -1.000000   \n",
       "9     -0.999857    -0.896335    -0.965937    -0.988931    -0.996408   \n",
       "10    -0.403302    -0.451474    -0.592917    -0.698258    -0.776360   \n",
       "11    -0.982299    -0.981780    -0.997259    -0.999606    -0.999944   \n",
       "12    -0.992641    -0.981718    -0.997246    -0.999603    -0.999944   \n",
       "13    -0.810115    -0.900381    -0.967883    -0.989764    -0.996743   \n",
       "14    -0.687820    -0.531600    -0.678527    -0.779736    -0.849102   \n",
       "15    -0.622303    -0.931511    -0.981507    -0.995088    -0.998699   \n",
       "16    -0.979697    -0.982170    -0.997341    -0.999621    -0.999947   \n",
       "17    -0.969784    -0.636294    -0.779710    -0.866914    -0.919615   \n",
       "18    -0.950140    -0.850376    -0.941330    -0.977170    -0.991125   \n",
       "19    -0.973476    -0.506016    -0.651926    -0.755110    -0.827727   \n",
       "20          NaN          NaN          NaN          NaN          NaN   \n",
       "21    -0.992641    -0.972151    -0.994995    -0.999130    -0.999850   \n",
       "22    -0.999740    -1.000000    -1.000000    -1.000000    -1.000000   \n",
       "23    -0.995445    -0.864767    -0.949506    -0.981306    -0.993086   \n",
       "24    -0.984605    -0.933848    -0.982426    -0.995409    -0.998804   \n",
       "25          NaN          NaN          NaN          NaN          NaN   \n",
       "26    -0.875398    -0.191061    -0.272003    -0.345080    -0.410836   \n",
       "27    -0.998945    -0.914963    -0.974573    -0.992498    -0.997791   \n",
       "28    -0.999144    -0.878100    -0.956706    -0.984768    -0.994648   \n",
       "29          NaN          NaN          NaN          NaN          NaN   \n",
       "\n",
       "    imdbVotes^6  imdbVotes^7  imdbVotes^8  \n",
       "0     -0.996784    -0.998765    -0.999525  \n",
       "1           NaN          NaN          NaN  \n",
       "2      0.000000     0.000000     0.000000  \n",
       "3     -0.998860    -0.999632    -0.999881  \n",
       "4     -0.999993    -0.999999    -1.000000  \n",
       "5     -0.999811    -0.999955    -0.999989  \n",
       "6     -0.998562    -0.999517    -0.999838  \n",
       "7     -0.992060    -0.996454    -0.998416  \n",
       "8     -1.000000    -1.000000    -1.000000  \n",
       "9     -0.998835    -0.999622    -0.999877  \n",
       "10    -0.834248    -0.877152    -0.908950  \n",
       "11    -0.999992    -0.999999    -1.000000  \n",
       "12    -0.999992    -0.999999    -1.000000  \n",
       "13    -0.998964    -0.999670    -0.999895  \n",
       "14    -0.896623    -0.929179    -0.951483  \n",
       "15    -0.999655    -0.999909    -0.999976  \n",
       "16    -0.999993    -0.999999    -1.000000  \n",
       "17    -0.951447    -0.970674    -0.982287  \n",
       "18    -0.996550    -0.998659    -0.999479  \n",
       "19    -0.878811    -0.914748    -0.940028  \n",
       "20          NaN          NaN          NaN  \n",
       "21    -0.999974    -0.999996    -0.999999  \n",
       "22    -1.000000    -1.000000    -1.000000  \n",
       "23    -0.997443    -0.999055    -0.999650  \n",
       "24    -0.999689    -0.999919    -0.999979  \n",
       "25          NaN          NaN          NaN  \n",
       "26    -0.469991    -0.523206    -0.571079  \n",
       "27    -0.999350    -0.999809    -0.999944  \n",
       "28    -0.998120    -0.999339    -0.999768  \n",
       "29          NaN          NaN          NaN  \n",
       "\n",
       "[30 rows x 32 columns]>"
      ]
     },
     "execution_count": 6,
     "metadata": {},
     "output_type": "execute_result"
    }
   ],
   "source": [
    "#Your code here\n",
    "def norm(col):\n",
    "    minimum = col.min()\n",
    "    maximum = col.max()\n",
    "    return (col-maximum)/(maximum-minimum)\n",
    "\n",
    "for col in X.columns:\n",
    "    X[col] = norm(X[col])\n",
    "\n",
    "X.head\n"
   ]
  },
  {
   "cell_type": "code",
   "execution_count": 7,
   "metadata": {},
   "outputs": [],
   "source": [
    "X = X.fillna(value=0)"
   ]
  },
  {
   "cell_type": "code",
   "execution_count": 8,
   "metadata": {},
   "outputs": [],
   "source": [
    "ols = lin.LinearRegression()"
   ]
  },
  {
   "cell_type": "code",
   "execution_count": 9,
   "metadata": {},
   "outputs": [
    {
     "data": {
      "text/plain": [
       "LinearRegression(copy_X=True, fit_intercept=True, n_jobs=1, normalize=False)"
      ]
     },
     "execution_count": 9,
     "metadata": {},
     "output_type": "execute_result"
    }
   ],
   "source": [
    "ols.fit(X, Y)"
   ]
  },
  {
   "cell_type": "code",
   "execution_count": 10,
   "metadata": {},
   "outputs": [
    {
     "data": {
      "text/plain": [
       "array([ 7.97376976e+04, -1.48055141e+08, -2.46919551e+05, -6.71838084e+05,\n",
       "       -2.74524866e+06,  2.58940018e+07, -1.14474909e+08,  2.74150425e+08,\n",
       "       -3.66447611e+08,  2.56817251e+08, -7.32779699e+07,  5.03419015e+08,\n",
       "       -4.08272464e+08, -3.18056986e+08,  3.91793637e+08,  3.74953334e+08,\n",
       "       -5.96120728e+08,  2.00338344e+08, -5.14427930e+06,  4.92020411e+07,\n",
       "       -1.81490814e+08,  3.58613155e+08, -4.01339720e+08,  2.40039920e+08,\n",
       "       -5.96713646e+07,  9.55240762e+06, -6.13799157e+07,  2.16523117e+08,\n",
       "       -4.44553150e+08,  5.27665904e+08, -3.34456769e+08,  8.73580329e+07])"
      ]
     },
     "execution_count": 10,
     "metadata": {},
     "output_type": "execute_result"
    }
   ],
   "source": [
    "ols.coef_"
   ]
  },
  {
   "cell_type": "code",
   "execution_count": 11,
   "metadata": {},
   "outputs": [
    {
     "data": {
      "text/plain": [
       "1.0"
      ]
     },
     "execution_count": 11,
     "metadata": {},
     "output_type": "execute_result"
    }
   ],
   "source": [
    "ols.score(X,Y)"
   ]
  },
  {
   "cell_type": "markdown",
   "metadata": {},
   "source": [
    "### 4. Plot the model and the actual data on the Budget/Gross Domestic Product plane. (Remember this is just a slice of your n-dimensional space!)"
   ]
  },
  {
   "cell_type": "code",
   "execution_count": 12,
   "metadata": {},
   "outputs": [],
   "source": [
    "import matplotlib.pyplot as plt"
   ]
  },
  {
   "cell_type": "code",
   "execution_count": 13,
   "metadata": {},
   "outputs": [
    {
     "data": {
      "text/plain": [
       "<matplotlib.legend.Legend at 0x1a153e4518>"
      ]
     },
     "execution_count": 13,
     "metadata": {},
     "output_type": "execute_result"
    },
    {
     "data": {
      "image/png": "[encoded data removed]",
      "text/plain": [
       "<matplotlib.figure.Figure at 0x1a1538b390>"
      ]
     },
     "metadata": {},
     "output_type": "display_data"
    }
   ],
   "source": [
    "#Your code here\n",
    "y_hat = ols.predict(X)\n",
    "df['Model'] = y_hat\n",
    "plt.scatter(df['budget'], df['domgross'], color='blue', label='Data')\n",
    "plt.scatter(df['budget'], df['Model'], color='red', label='Model')\n",
    "plt.legend()"
   ]
  },
  {
   "cell_type": "code",
   "execution_count": 14,
   "metadata": {},
   "outputs": [
    {
     "data": {
      "text/plain": [
       "<matplotlib.legend.Legend at 0x1a154ec780>"
      ]
     },
     "execution_count": 14,
     "metadata": {},
     "output_type": "execute_result"
    },
    {
     "data": {
      "image/png": "[encoded data removed]",
      "text/plain": [
       "<matplotlib.figure.Figure at 0x109977828>"
      ]
     },
     "metadata": {},
     "output_type": "display_data"
    }
   ],
   "source": [
    "plt.scatter(df['budget'], df['Model'], color='red', label='Model')\n",
    "plt.scatter(df['budget'], df['domgross'], color='blue', label='Data')\n",
    "plt.legend()"
   ]
  },
  {
   "cell_type": "code",
   "execution_count": 15,
   "metadata": {},
   "outputs": [
    {
     "data": {
      "text/plain": [
       "Index(['budget', 'imdbRating', 'Metascore', 'imdbVotes'], dtype='object')"
      ]
     },
     "execution_count": 15,
     "metadata": {},
     "output_type": "execute_result"
    }
   ],
   "source": [
    "orig_columns"
   ]
  },
  {
   "cell_type": "code",
   "execution_count": 16,
   "metadata": {},
   "outputs": [
    {
     "data": {
      "text/html": [
       "<div>\n",
       "<style scoped>\n",
       "    .dataframe tbody tr th:only-of-type {\n",
       "        vertical-align: middle;\n",
       "    }\n",
       "\n",
       "    .dataframe tbody tr th {\n",
       "        vertical-align: top;\n",
       "    }\n",
       "\n",
       "    .dataframe thead th {\n",
       "        text-align: right;\n",
       "    }\n",
       "</style>\n",
       "<table border=\"1\" class=\"dataframe\">\n",
       "  <thead>\n",
       "    <tr style=\"text-align: right;\">\n",
       "      <th></th>\n",
       "      <th>domgross</th>\n",
       "      <th>Model</th>\n",
       "      <th>residual</th>\n",
       "      <th>percent_error</th>\n",
       "    </tr>\n",
       "  </thead>\n",
       "  <tbody>\n",
       "    <tr>\n",
       "      <th>0</th>\n",
       "      <td>25.682380</td>\n",
       "      <td>25.682380</td>\n",
       "      <td>1.899927e-07</td>\n",
       "      <td>7.397785e-09</td>\n",
       "    </tr>\n",
       "    <tr>\n",
       "      <th>1</th>\n",
       "      <td>13.414714</td>\n",
       "      <td>13.414714</td>\n",
       "      <td>2.040526e-07</td>\n",
       "      <td>1.521111e-08</td>\n",
       "    </tr>\n",
       "    <tr>\n",
       "      <th>2</th>\n",
       "      <td>53.107035</td>\n",
       "      <td>53.107035</td>\n",
       "      <td>9.640416e-08</td>\n",
       "      <td>1.815280e-09</td>\n",
       "    </tr>\n",
       "    <tr>\n",
       "      <th>3</th>\n",
       "      <td>75.612460</td>\n",
       "      <td>75.612460</td>\n",
       "      <td>1.921956e-07</td>\n",
       "      <td>2.541851e-09</td>\n",
       "    </tr>\n",
       "    <tr>\n",
       "      <th>4</th>\n",
       "      <td>95.020213</td>\n",
       "      <td>95.020213</td>\n",
       "      <td>1.940271e-07</td>\n",
       "      <td>2.041956e-09</td>\n",
       "    </tr>\n",
       "  </tbody>\n",
       "</table>\n",
       "</div>"
      ],
      "text/plain": [
       "    domgross      Model      residual  percent_error\n",
       "0  25.682380  25.682380  1.899927e-07   7.397785e-09\n",
       "1  13.414714  13.414714  2.040526e-07   1.521111e-08\n",
       "2  53.107035  53.107035  9.640416e-08   1.815280e-09\n",
       "3  75.612460  75.612460  1.921956e-07   2.541851e-09\n",
       "4  95.020213  95.020213  1.940271e-07   2.041956e-09"
      ]
     },
     "execution_count": 16,
     "metadata": {},
     "output_type": "execute_result"
    }
   ],
   "source": [
    "df['residual'] = df.Model - df.domgross\n",
    "df['percent_error'] = df.residual / df.domgross\n",
    "df[['domgross', 'Model', 'residual', 'percent_error']].head()"
   ]
  },
  {
   "cell_type": "code",
   "execution_count": 17,
   "metadata": {},
   "outputs": [
    {
     "data": {
      "text/plain": [
       "'7.76E-13'"
      ]
     },
     "execution_count": 17,
     "metadata": {},
     "output_type": "execute_result"
    }
   ],
   "source": [
    "def rss(y, y_hat):\n",
    "    return sum((y_hat - y)**2)\n",
    "err = rss(df.domgross, df.Model)\n",
    "'%.2E' % Decimal(err)"
   ]
  },
  {
   "cell_type": "markdown",
   "metadata": {},
   "source": [
    "### 5. What do you notice?"
   ]
  },
  {
   "cell_type": "markdown",
   "metadata": {},
   "source": [
    "#Your response here \n",
    "\n",
    "Note: This box (like all the questions and headers) is formatted in Markdown. See a brief cheat sheet of [markdown syntax here](https://guides.github.com/pdfs/markdown-cheatsheet-online.pdf)!\n",
    "\n",
    "There is virtually no error!"
   ]
  },
  {
   "cell_type": "markdown",
   "metadata": {},
   "source": [
    "## Train Test Split\n",
    "\n",
    "Here lies the theoretical underpinnings for train test split. Essentially, we are trying to gauge the generalization error of our currently tuned model to future cases. (After all, that's the value of predictive models; to predict fturue states or occurences! By initially dividing our data into one set that we will optimize and train our models on, and a second hold out set that we later verify our models on but never tune them against, we can better judge how well our models will generalize to future cases outside of the scope of current observations."
   ]
  },
  {
   "cell_type": "markdown",
   "metadata": {},
   "source": [
    "### 6. Split your data (including all of those feature engineered columns) into two sets; train and test. In other words, instead of simply X and respective Y datasets, you will now have 4 subsets: X_train, y_train, X_test, and y_test."
   ]
  },
  {
   "cell_type": "code",
   "execution_count": 18,
   "metadata": {},
   "outputs": [
    {
     "name": "stdout",
     "output_type": "stream",
     "text": [
      "(30, 32) (30,)\n"
     ]
    }
   ],
   "source": [
    "print(X.shape, Y.shape)"
   ]
  },
  {
   "cell_type": "code",
   "execution_count": 19,
   "metadata": {},
   "outputs": [
    {
     "data": {
      "text/plain": [
       "24"
      ]
     },
     "execution_count": 19,
     "metadata": {},
     "output_type": "execute_result"
    }
   ],
   "source": [
    "sample_train =  X.sample(frac=.8)\n",
    "len(sample_train)"
   ]
  },
  {
   "cell_type": "code",
   "execution_count": 20,
   "metadata": {},
   "outputs": [
    {
     "data": {
      "text/plain": [
       "6"
      ]
     },
     "execution_count": 20,
     "metadata": {},
     "output_type": "execute_result"
    }
   ],
   "source": [
    "len(X[~X.index.isin(sample_train.index)])"
   ]
  },
  {
   "cell_type": "code",
   "execution_count": 21,
   "metadata": {},
   "outputs": [
    {
     "data": {
      "text/plain": [
       "6"
      ]
     },
     "execution_count": 21,
     "metadata": {},
     "output_type": "execute_result"
    }
   ],
   "source": [
    "len(Y[~Y.index.isin(sample_train.index)])"
   ]
  },
  {
   "cell_type": "code",
   "execution_count": 22,
   "metadata": {},
   "outputs": [],
   "source": [
    "from sklearn.model_selection import train_test_split"
   ]
  },
  {
   "cell_type": "code",
   "execution_count": 23,
   "metadata": {},
   "outputs": [],
   "source": [
    "X_train , X_test, y_train, y_test = train_test_split(X, Y)"
   ]
  },
  {
   "cell_type": "code",
   "execution_count": 24,
   "metadata": {},
   "outputs": [],
   "source": [
    "def personal_test_train_split(X, Y, train_per = .8):\n",
    "    X_train = X.sample(frac=train_per)\n",
    "    Y_train = Y[Y.index.isin(X_train.index)]\n",
    "    X_test = X[~X.index.isin(X_train.index)]\n",
    "    Y_test = Y[~Y.index.isin(X_train.index)]\n",
    "    return X_train, X_test, Y_train, Y_test"
   ]
  },
  {
   "cell_type": "code",
   "execution_count": 25,
   "metadata": {},
   "outputs": [],
   "source": [
    "X_train , X_test, y_train, y_test = personal_test_train_split(X, Y)"
   ]
  },
  {
   "cell_type": "markdown",
   "metadata": {},
   "source": [
    "### 7. Train your model on the train set. [As before use RSS and gradient descent, but only use the training data.]"
   ]
  },
  {
   "cell_type": "code",
   "execution_count": 26,
   "metadata": {},
   "outputs": [
    {
     "data": {
      "text/plain": [
       "LinearRegression(copy_X=True, fit_intercept=True, n_jobs=1, normalize=False)"
      ]
     },
     "execution_count": 26,
     "metadata": {},
     "output_type": "execute_result"
    }
   ],
   "source": [
    "#Your code here\n",
    "ols2 = lin.LinearRegression()\n",
    "ols2.fit(X_train, y_train)"
   ]
  },
  {
   "cell_type": "markdown",
   "metadata": {},
   "source": [
    "### 8. Evaluate your model on the test set."
   ]
  },
  {
   "cell_type": "code",
   "execution_count": 27,
   "metadata": {},
   "outputs": [
    {
     "data": {
      "text/plain": [
       "'9.64E+08'"
      ]
     },
     "execution_count": 27,
     "metadata": {},
     "output_type": "execute_result"
    }
   ],
   "source": [
    "err = rss(y_test, ols2.predict(X_test))\n",
    "'%.2E' % Decimal(err)"
   ]
  },
  {
   "cell_type": "markdown",
   "metadata": {},
   "source": [
    "## Bonus:   \n",
    "### Iterate over training size sets from 5%-95% of the total sample size and calculate both the training error (minimized rss) and the test error (rss) for each of these splits. Plot these two curves (train error vs. training size and test error vs. training size) on a graph. "
   ]
  },
  {
   "cell_type": "code",
   "execution_count": 28,
   "metadata": {},
   "outputs": [
    {
     "data": {
      "text/plain": [
       "<matplotlib.legend.Legend at 0x1a155cc748>"
      ]
     },
     "execution_count": 28,
     "metadata": {},
     "output_type": "execute_result"
    },
    {
     "data": {
      "image/png": "[encoded data removed]",
      "text/plain": [
       "<matplotlib.figure.Figure at 0x1a155697b8>"
      ]
     },
     "metadata": {},
     "output_type": "display_data"
    }
   ],
   "source": [
    "import numpy as np\n",
    "train_size = []\n",
    "train_rss = []\n",
    "test_rss = []\n",
    "\n",
    "for i in range(10,95,5):\n",
    "    train_scores = []\n",
    "    test_scores = []\n",
    "    for n in range(10**2):\n",
    "        #Split\n",
    "        X_train , X_test, y_train, y_test = personal_test_train_split(X, Y, train_per=i/100.0)\n",
    "        #Fit\n",
    "        ols2 = lin.LinearRegression()\n",
    "        ols2.fit(X_train, y_train)\n",
    "        #RSS\n",
    "        train_err = rss(y_train, ols2.predict(X_train))\n",
    "        test_err = rss(y_test, ols2.predict(X_test))\n",
    "        #Append to Temp Storage\n",
    "        train_scores.append(train_err)\n",
    "        test_scores.append(test_err)\n",
    "    train_rss.append(np.median(train_scores))\n",
    "    test_rss.append(np.median(test_scores))\n",
    "    train_size.append(i)\n",
    "plt.scatter(train_size, train_rss, color = 'blue', label='Training RSS')\n",
    "plt.scatter(train_size, test_rss, color = 'orange', label='Test RSS')\n",
    "plt.legend()"
   ]
  },
  {
   "cell_type": "code",
   "execution_count": null,
   "metadata": {},
   "outputs": [],
   "source": []
  }
 ],
 "metadata": {
  "kernelspec": {
   "display_name": "Python 3",
   "language": "python",
   "name": "python3"
  },
  "language_info": {
   "codemirror_mode": {
    "name": "ipython",
    "version": 3
   },
   "file_extension": ".py",
   "mimetype": "text/x-python",
   "name": "python",
   "nbconvert_exporter": "python",
   "pygments_lexer": "ipython3",
   "version": "3.6.4"
  }
 },
 "nbformat": 4,
 "nbformat_minor": 2
}
